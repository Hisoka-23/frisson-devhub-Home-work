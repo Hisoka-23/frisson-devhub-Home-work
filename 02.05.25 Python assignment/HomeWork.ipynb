{
 "cells": [
  {
   "cell_type": "code",
   "execution_count": 2,
   "id": "49126d66-c7ec-425e-9bdb-bb4eedfa2c54",
   "metadata": {},
   "outputs": [
    {
     "name": "stdout",
     "output_type": "stream",
     "text": [
      "Before Swaping : x =  2  y =  3\n",
      "After Swaping : x =  3  y = 2\n"
     ]
    },
    {
     "data": {
      "text/plain": [
       "(3, 2)"
      ]
     },
     "execution_count": 2,
     "metadata": {},
     "output_type": "execute_result"
    }
   ],
   "source": [
    "# 1. Swap two variables without using a temporary variable\n",
    "def swapWithoutTemp(a, b):\n",
    "    print(\"Before Swaping : x = \", a , \" y = \",b)\n",
    "    # x,y=y,x\n",
    "    a = a+b # 2 + 3 = 5\n",
    "    b = a-b # 5 - 3 = 2\n",
    "    a = a-b # 5 - 2 = 3\n",
    "    print(\"After Swaping : x = \", a , \" y =\",b)\n",
    "    return a,b\n",
    "\n",
    "# Method calling\n",
    "swapWithoutTemp(2, 3)"
   ]
  },
  {
   "cell_type": "code",
   "execution_count": 4,
   "id": "252fc3fe-8d18-4c05-b247-7912f8010066",
   "metadata": {},
   "outputs": [
    {
     "name": "stdout",
     "output_type": "stream",
     "text": [
      "Enter length :  5\n",
      "Enter breath :  5\n"
     ]
    },
    {
     "name": "stdout",
     "output_type": "stream",
     "text": [
      "Area of Reactangle :  25 cm^2\n"
     ]
    },
    {
     "data": {
      "text/plain": [
       "25"
      ]
     },
     "execution_count": 4,
     "metadata": {},
     "output_type": "execute_result"
    }
   ],
   "source": [
    "# 2. Calculate area of a rectangle\n",
    "def calculateArea(length, breath):\n",
    "    area = length * breath\n",
    "    print(\"Area of Reactangle : \",area, \"cm^2\")\n",
    "    return area\n",
    "\n",
    "# given Input\n",
    "length = int(input(\"Enter length : \"))\n",
    "breath = int(input(\"Enter breath : \"))\n",
    "\n",
    "# Method calling\n",
    "calculateArea(length, breath)"
   ]
  },
  {
   "cell_type": "code",
   "execution_count": 5,
   "id": "f8e4dc40-1018-41b2-9090-b3b35925d972",
   "metadata": {},
   "outputs": [
    {
     "name": "stdout",
     "output_type": "stream",
     "text": [
      "Enter temperature in Celeius:  32\n"
     ]
    },
    {
     "name": "stdout",
     "output_type": "stream",
     "text": [
      "32.0 ^C  into  89.6 ^F\n"
     ]
    },
    {
     "data": {
      "text/plain": [
       "89.6"
      ]
     },
     "execution_count": 5,
     "metadata": {},
     "output_type": "execute_result"
    }
   ],
   "source": [
    "# 3. Celsius to Fahrenheit converter\n",
    "def celsiusToFahrenheit(celsius):\n",
    "    fahrenheit = (celsius * 9/5) + 32\n",
    "    print(celsius,\"^C\", \" into \", fahrenheit,\"^F\")\n",
    "    return fahrenheit\n",
    "\n",
    "# Giving input\n",
    "celsius = float(input(\"Enter temperature in Celeius: \"))\n",
    "# Method Calling\n",
    "celsiusToFahrenheit(celsius)"
   ]
  },
  {
   "cell_type": "code",
   "execution_count": 2,
   "id": "ab6b8bc2-33fc-4802-b780-7937ac548e1b",
   "metadata": {},
   "outputs": [
    {
     "name": "stdout",
     "output_type": "stream",
     "text": [
      "PRAKASH\n",
      "prakash\n",
      "Reversed text: NITIN\n",
      "['Hello', 'Python', 'and', 'AI', '/', 'MI']\n",
      "Hello Python and AI / MI\n",
      "HELLO Python, HELLO python dev\n"
     ]
    }
   ],
   "source": [
    "# Question 4 Making function for split,upper,lower,strip,replace\n",
    "# string to uppercase\n",
    "def uppercase(string):\n",
    "    temp = \"\"  \n",
    "    for ch in string:  \n",
    "        if 'a' <= ch <= 'z': \n",
    "            temp += chr(ord(ch) - 32)  \n",
    "        else:\n",
    "            temp += ch  \n",
    "    return temp   \n",
    "\n",
    "# string to lowercase\n",
    "def lowercase(string):\n",
    "    temp = \"\"  \n",
    "    for ch in string:  \n",
    "        if 'A' <= ch <= 'Z':  \n",
    "            temp += chr(ord(ch) + 32)  \n",
    "        else:\n",
    "            temp += ch  \n",
    "    return temp  \n",
    "\n",
    "# split the string\n",
    "def split(string,splitter):\n",
    "    result = []  \n",
    "    word = \"\"    \n",
    "\n",
    "    for ch in string:  \n",
    "        if ch != splitter :  \n",
    "            word += ch  \n",
    "        else:\n",
    "            if word:  \n",
    "                result.append(word)\n",
    "                word = \"\"  \n",
    "\n",
    "    if word:  \n",
    "        result.append(word) \n",
    "\n",
    "    return result    \n",
    "\n",
    "# reverse the string\n",
    "def reverse_string(string):\n",
    "    result = \"\"  \n",
    "    for ch in string:\n",
    "        result = ch + result  \n",
    "    return result \n",
    "\n",
    "# function of strip\n",
    "def strip(text):\n",
    "    start = 0\n",
    "    end = len(text) - 1\n",
    "\n",
    "    while start < len(text) and text[start] == ' ':\n",
    "        start += 1\n",
    "\n",
    "    while end >= 0 and text[end] == ' ':\n",
    "        end -= 1\n",
    "\n",
    "    result = ''\n",
    "    for i in range(start, end + 1):\n",
    "        result += text[i]\n",
    "\n",
    "    return result\n",
    "\n",
    "# custom function of replace\n",
    "def replace(text, old_substring, new_substring):\n",
    "    result = \"\"\n",
    "    i = 0\n",
    "    while i < len(text):\n",
    "        \n",
    "        if text[i:i+len(old_substring)] == old_substring:\n",
    "            result += new_substring  \n",
    "            i += len(old_substring) \n",
    "        else:\n",
    "            result += text[i]  \n",
    "            i += 1\n",
    "    return result\n",
    "\n",
    "# Take input from the user\n",
    "string = input(\"Enter the string that you want in uppercase: \")\n",
    "# Call the function \n",
    "print(uppercase(string))\n",
    "\n",
    "# Take input from the user\n",
    "string = input(\"Enter the string that you want in lowercase: \")\n",
    "# Call the function a\n",
    "print(lowercase(string))\n",
    "\n",
    "string = input(\"Enter the text that you want to reverse: \")\n",
    "# Method calling and printing the result\n",
    "print(\"Reversed text:\", reverse_string(string))\n",
    "\n",
    "# Method calling\n",
    "print(split(\"Hello Python and AI / MI\", ' '))\n",
    "\n",
    "# Method calling\n",
    "print(strip(\"  Hello Python and AI / MI  \"))\n",
    "\n",
    "# Method calling\n",
    "print(replace(\"hello Python, hello python dev\", \"hello\", \"HELLO\"))  \n"
   ]
  }
 ],
 "metadata": {
  "kernelspec": {
   "display_name": "Python 3",
   "language": "python",
   "name": "python3"
  },
  "language_info": {
   "codemirror_mode": {
    "name": "ipython",
    "version": 3
   },
   "file_extension": ".py",
   "mimetype": "text/x-python",
   "name": "python",
   "nbconvert_exporter": "python",
   "pygments_lexer": "ipython3",
   "version": "3.13.2"
  }
 },
 "nbformat": 4,
 "nbformat_minor": 5
}
